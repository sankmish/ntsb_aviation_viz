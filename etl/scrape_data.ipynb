{
 "cells": [
  {
   "cell_type": "code",
   "execution_count": 3,
   "metadata": {},
   "outputs": [],
   "source": [
    "import numpy as np"
   ]
  },
  {
   "cell_type": "code",
   "execution_count": 4,
   "metadata": {},
   "outputs": [],
   "source": [
    "from sqlalchemy import create_engine\n",
    "from sqlalchemy.ext.automap import automap_base\n",
    "from sqlalchemy.orm import Session"
   ]
  },
  {
   "cell_type": "code",
   "execution_count": 5,
   "metadata": {},
   "outputs": [],
   "source": [
    "engine = create_engine('sqlite:///data/aviation_accidents.sqlite')"
   ]
  },
  {
   "cell_type": "code",
   "execution_count": 6,
   "metadata": {},
   "outputs": [
    {
     "data": {
      "text/plain": [
       "['aviation_accidents']"
      ]
     },
     "execution_count": 6,
     "metadata": {},
     "output_type": "execute_result"
    }
   ],
   "source": [
    "# reflect and automap, view existing tables in source db\n",
    "Base = automap_base()\n",
    "Base.prepare(engine,reflect=True)\n",
    "Base.classes.keys()"
   ]
  },
  {
   "cell_type": "code",
   "execution_count": 7,
   "metadata": {},
   "outputs": [],
   "source": [
    "Accident = Base.classes.aviation_accidents"
   ]
  },
  {
   "cell_type": "code",
   "execution_count": 8,
   "metadata": {},
   "outputs": [],
   "source": [
    "session = Session(bind=engine)"
   ]
  },
  {
   "cell_type": "code",
   "execution_count": 9,
   "metadata": {},
   "outputs": [],
   "source": [
    "results = session.query(Accident.EventId).all()"
   ]
  },
  {
   "cell_type": "code",
   "execution_count": 10,
   "metadata": {},
   "outputs": [],
   "source": [
    "# check for duplicates >> 2 max, none have count > 2\n",
    "events = list(np.ravel(results))\n",
    "set([x for x in events if events.count(x) > 1])"
   ]
  },
  {
   "cell_type": "code",
   "execution_count": 11,
   "metadata": {
    "scrolled": true
   },
   "outputs": [],
   "source": [
    "# generate 2-letter codes from AccidentNumber\n",
    "results = session.query(Accident.AccidentNumber).all()\n",
    "\n",
    "types = []\n",
    "for result in list(np.ravel(results)):\n",
    "    a = result[5:7]\n",
    "    types.append(a)"
   ]
  },
  {
   "cell_type": "code",
   "execution_count": 12,
   "metadata": {
    "scrolled": true
   },
   "outputs": [
    {
     "data": {
      "text/plain": [
       "11248"
      ]
     },
     "execution_count": 12,
     "metadata": {},
     "output_type": "execute_result"
    }
   ],
   "source": [
    "# confirm 11248 codes\n",
    "len(results)"
   ]
  },
  {
   "cell_type": "markdown",
   "metadata": {},
   "source": [
    "#### webscrape HTML reports"
   ]
  },
  {
   "cell_type": "code",
   "execution_count": 1,
   "metadata": {},
   "outputs": [],
   "source": [
    "from splinter import Browser\n",
    "from bs4 import BeautifulSoup as bs"
   ]
  },
  {
   "cell_type": "code",
   "execution_count": 27,
   "metadata": {},
   "outputs": [],
   "source": [
    "executable_path = {'executable_path':'chromedriver.exe'}\n",
    "browser = Browser('chrome', **executable_path, headless=True)"
   ]
  },
  {
   "cell_type": "code",
   "execution_count": 13,
   "metadata": {},
   "outputs": [],
   "source": [
    "# generate direct urls to HTML reports\n",
    "# EventID is not unique => increment AKey for multiple ids\n",
    "# IType is pulled from generated 2-letter codes\n",
    "base_url = 'https://app.ntsb.gov/pdfgenerator/ReportGeneratorFile.ashx'\n",
    "'EventID={event[i]}&AKey={key[i]}&RType=HTML&IType={type[i]}'\n",
    "\n",
    "to_visit = []\n",
    "for i, event in enumerate(events):\n",
    "    url = base_url + '?EventID=' + event + '&AKey=1' + \\\n",
    "        '&RType=HTML' + '&IType=' + types[i]\n",
    "    if url in to_visit:\n",
    "        url = base_url + '?EventID=' + event + '&AKey=2' + \\\n",
    "            '&RType=HTML' + '&IType=' + types[i]\n",
    "    to_visit.append(url)"
   ]
  },
  {
   "cell_type": "code",
   "execution_count": 14,
   "metadata": {},
   "outputs": [
    {
     "data": {
      "text/plain": [
       "11248"
      ]
     },
     "execution_count": 14,
     "metadata": {},
     "output_type": "execute_result"
    }
   ],
   "source": [
    "# confirm 11248 generated urls\n",
    "len(to_visit)"
   ]
  },
  {
   "cell_type": "markdown",
   "metadata": {},
   "source": [
    "**scrape NTSB data**"
   ]
  },
  {
   "cell_type": "code",
   "execution_count": 15,
   "metadata": {},
   "outputs": [],
   "source": [
    "import re"
   ]
  },
  {
   "cell_type": "code",
   "execution_count": 28,
   "metadata": {
    "scrolled": true
   },
   "outputs": [
    {
     "name": "stdout",
     "output_type": "stream",
     "text": [
      "3 https://app.ntsb.gov/pdfgenerator/ReportGeneratorFile.ashx?EventID=20181112X55458&AKey=1&RType=HTML&IType=WA\n",
      "21 https://app.ntsb.gov/pdfgenerator/ReportGeneratorFile.ashx?EventID=20181025X34651&AKey=1&RType=HTML&IType=WA\n",
      "25 https://app.ntsb.gov/pdfgenerator/ReportGeneratorFile.ashx?EventID=20181022X64842&AKey=1&RType=HTML&IType=WA\n",
      "39 https://app.ntsb.gov/pdfgenerator/ReportGeneratorFile.ashx?EventID=20181009X50459&AKey=1&RType=HTML&IType=WA\n",
      "44 https://app.ntsb.gov/pdfgenerator/ReportGeneratorFile.ashx?EventID=20181108X50459&AKey=1&RType=HTML&IType=WA\n",
      "47 https://app.ntsb.gov/pdfgenerator/ReportGeneratorFile.ashx?EventID=20181004X75323&AKey=1&RType=HTML&IType=WA\n",
      "55 https://app.ntsb.gov/pdfgenerator/ReportGeneratorFile.ashx?EventID=20181004X25929&AKey=1&RType=HTML&IType=WA\n",
      "71 https://app.ntsb.gov/pdfgenerator/ReportGeneratorFile.ashx?EventID=20180917X41852&AKey=1&RType=HTML&IType=WA\n",
      "81 https://app.ntsb.gov/pdfgenerator/ReportGeneratorFile.ashx?EventID=20180912X80231&AKey=1&RType=HTML&IType=WA\n",
      "93 https://app.ntsb.gov/pdfgenerator/ReportGeneratorFile.ashx?EventID=20180907X02814&AKey=1&RType=HTML&IType=WA\n",
      "99 https://app.ntsb.gov/pdfgenerator/ReportGeneratorFile.ashx?EventID=20181015X51134&AKey=1&RType=HTML&IType=WA\n",
      "106 https://app.ntsb.gov/pdfgenerator/ReportGeneratorFile.ashx?EventID=20180912X15121&AKey=1&RType=HTML&IType=WA\n",
      "121 https://app.ntsb.gov/pdfgenerator/ReportGeneratorFile.ashx?EventID=20180827X74330&AKey=1&RType=HTML&IType=WA\n",
      "148 https://app.ntsb.gov/pdfgenerator/ReportGeneratorFile.ashx?EventID=20180813X42719&AKey=1&RType=HTML&IType=WA\n",
      "167 https://app.ntsb.gov/pdfgenerator/ReportGeneratorFile.ashx?EventID=20180820X43249&AKey=1&RType=HTML&IType=WA\n",
      "172 https://app.ntsb.gov/pdfgenerator/ReportGeneratorFile.ashx?EventID=20180804X33111&AKey=1&RType=HTML&IType=WA\n",
      "184 https://app.ntsb.gov/pdfgenerator/ReportGeneratorFile.ashx?EventID=20180816X15305&AKey=1&RType=HTML&IType=WA\n",
      "195 https://app.ntsb.gov/pdfgenerator/ReportGeneratorFile.ashx?EventID=20180801X03545&AKey=1&RType=HTML&IType=WA\n",
      "196 https://app.ntsb.gov/pdfgenerator/ReportGeneratorFile.ashx?EventID=20180801X03545&AKey=2&RType=HTML&IType=WA\n",
      "222 https://app.ntsb.gov/pdfgenerator/ReportGeneratorFile.ashx?EventID=20180712X43748&AKey=1&RType=HTML&IType=WA\n",
      "239 https://app.ntsb.gov/pdfgenerator/ReportGeneratorFile.ashx?EventID=20180705X91727&AKey=1&RType=HTML&IType=WA\n",
      "244 https://app.ntsb.gov/pdfgenerator/ReportGeneratorFile.ashx?EventID=20180629X51926&AKey=1&RType=HTML&IType=WA\n",
      "252 https://app.ntsb.gov/pdfgenerator/ReportGeneratorFile.ashx?EventID=20180724X91259&AKey=1&RType=HTML&IType=WA\n",
      "292 https://app.ntsb.gov/pdfgenerator/ReportGeneratorFile.ashx?EventID=20180619X83950&AKey=1&RType=HTML&IType=WA\n",
      "300 https://app.ntsb.gov/pdfgenerator/ReportGeneratorFile.ashx?EventID=20180703X30742&AKey=1&RType=HTML&IType=WA\n",
      "308 https://app.ntsb.gov/pdfgenerator/ReportGeneratorFile.ashx?EventID=20180608X35120&AKey=1&RType=HTML&IType=WA\n",
      "348 https://app.ntsb.gov/pdfgenerator/ReportGeneratorFile.ashx?EventID=20180522X10239&AKey=1&RType=HTML&IType=WA\n",
      "391 https://app.ntsb.gov/pdfgenerator/ReportGeneratorFile.ashx?EventID=20180613X23538&AKey=1&RType=HTML&IType=WA\n",
      "411 https://app.ntsb.gov/pdfgenerator/ReportGeneratorFile.ashx?EventID=20180507X05513&AKey=1&RType=HTML&IType=WA\n",
      "424 https://app.ntsb.gov/pdfgenerator/ReportGeneratorFile.ashx?EventID=20180621X91915&AKey=1&RType=HTML&IType=WA\n",
      "501 https://app.ntsb.gov/pdfgenerator/ReportGeneratorFile.ashx?EventID=20180302X81813&AKey=1&RType=HTML&IType=WA\n",
      "505 https://app.ntsb.gov/pdfgenerator/ReportGeneratorFile.ashx?EventID=20180313X12047&AKey=1&RType=HTML&IType=WA\n",
      "509 https://app.ntsb.gov/pdfgenerator/ReportGeneratorFile.ashx?EventID=20180420X73233&AKey=1&RType=HTML&IType=WA\n",
      "513 https://app.ntsb.gov/pdfgenerator/ReportGeneratorFile.ashx?EventID=20180227X14649&AKey=1&RType=HTML&IType=WA\n",
      "529 https://app.ntsb.gov/pdfgenerator/ReportGeneratorFile.ashx?EventID=20180813X53624&AKey=1&RType=HTML&IType=WA\n",
      "540 https://app.ntsb.gov/pdfgenerator/ReportGeneratorFile.ashx?EventID=20180316X41258&AKey=1&RType=HTML&IType=WA\n",
      "551 https://app.ntsb.gov/pdfgenerator/ReportGeneratorFile.ashx?EventID=20180214X11435&AKey=1&RType=HTML&IType=WA\n",
      "656 https://app.ntsb.gov/pdfgenerator/ReportGeneratorFile.ashx?EventID=20171205X01542&AKey=1&RType=HTML&IType=WA\n",
      "664 https://app.ntsb.gov/pdfgenerator/ReportGeneratorFile.ashx?EventID=20171128X94825&AKey=1&RType=HTML&IType=WA\n",
      "669 https://app.ntsb.gov/pdfgenerator/ReportGeneratorFile.ashx?EventID=20171121X95356&AKey=1&RType=HTML&IType=WA\n",
      "672 https://app.ntsb.gov/pdfgenerator/ReportGeneratorFile.ashx?EventID=20180322X74449&AKey=1&RType=HTML&IType=WA\n",
      "702 https://app.ntsb.gov/pdfgenerator/ReportGeneratorFile.ashx?EventID=20171122X93132&AKey=1&RType=HTML&IType=WA\n",
      "708 https://app.ntsb.gov/pdfgenerator/ReportGeneratorFile.ashx?EventID=20171108X81547&AKey=1&RType=HTML&IType=WA\n",
      "717 https://app.ntsb.gov/pdfgenerator/ReportGeneratorFile.ashx?EventID=20171101X40825&AKey=1&RType=HTML&IType=WA\n",
      "727 https://app.ntsb.gov/pdfgenerator/ReportGeneratorFile.ashx?EventID=20171106X30146&AKey=1&RType=HTML&IType=WA\n",
      "734 https://app.ntsb.gov/pdfgenerator/ReportGeneratorFile.ashx?EventID=20171013X21559&AKey=1&RType=HTML&IType=WA\n",
      "738 https://app.ntsb.gov/pdfgenerator/ReportGeneratorFile.ashx?EventID=20171010X03923&AKey=1&RType=HTML&IType=WA\n",
      "746 https://app.ntsb.gov/pdfgenerator/ReportGeneratorFile.ashx?EventID=20171001X01929&AKey=1&RType=HTML&IType=WA\n",
      "765 https://app.ntsb.gov/pdfgenerator/ReportGeneratorFile.ashx?EventID=20170922X30045&AKey=1&RType=HTML&IType=WA\n",
      "768 https://app.ntsb.gov/pdfgenerator/ReportGeneratorFile.ashx?EventID=20170927X15150&AKey=1&RType=HTML&IType=WA\n",
      "769 https://app.ntsb.gov/pdfgenerator/ReportGeneratorFile.ashx?EventID=20170921X21618&AKey=1&RType=HTML&IType=WA\n",
      "770 https://app.ntsb.gov/pdfgenerator/ReportGeneratorFile.ashx?EventID=20180702X64203&AKey=1&RType=HTML&IType=WA\n",
      "791 https://app.ntsb.gov/pdfgenerator/ReportGeneratorFile.ashx?EventID=20170915X21024&AKey=1&RType=HTML&IType=WA\n",
      "795 https://app.ntsb.gov/pdfgenerator/ReportGeneratorFile.ashx?EventID=20170911X24556&AKey=1&RType=HTML&IType=WA\n",
      "800 https://app.ntsb.gov/pdfgenerator/ReportGeneratorFile.ashx?EventID=20170913X00343&AKey=1&RType=HTML&IType=WA\n",
      "814 https://app.ntsb.gov/pdfgenerator/ReportGeneratorFile.ashx?EventID=20170909X23646&AKey=1&RType=HTML&IType=WA\n",
      "819 https://app.ntsb.gov/pdfgenerator/ReportGeneratorFile.ashx?EventID=20171105X62729&AKey=1&RType=HTML&IType=WA\n",
      "835 https://app.ntsb.gov/pdfgenerator/ReportGeneratorFile.ashx?EventID=20170829X21205&AKey=1&RType=HTML&IType=WA\n",
      "840 https://app.ntsb.gov/pdfgenerator/ReportGeneratorFile.ashx?EventID=20170906X13005&AKey=1&RType=HTML&IType=WA\n",
      "855 https://app.ntsb.gov/pdfgenerator/ReportGeneratorFile.ashx?EventID=20170819X44220&AKey=1&RType=HTML&IType=WA\n",
      "857 https://app.ntsb.gov/pdfgenerator/ReportGeneratorFile.ashx?EventID=20170914X31911&AKey=1&RType=HTML&IType=WA\n",
      "868 https://app.ntsb.gov/pdfgenerator/ReportGeneratorFile.ashx?EventID=20170822X72358&AKey=1&RType=HTML&IType=WA\n",
      "877 https://app.ntsb.gov/pdfgenerator/ReportGeneratorFile.ashx?EventID=20170812X42809&AKey=1&RType=HTML&IType=WA\n",
      "899 https://app.ntsb.gov/pdfgenerator/ReportGeneratorFile.ashx?EventID=20170821X03353&AKey=1&RType=HTML&IType=WA\n",
      "931 https://app.ntsb.gov/pdfgenerator/ReportGeneratorFile.ashx?EventID=20170728X64559&AKey=1&RType=HTML&IType=RA\n",
      "967 https://app.ntsb.gov/pdfgenerator/ReportGeneratorFile.ashx?EventID=20170810X81853&AKey=1&RType=HTML&IType=WA\n",
      "1040 https://app.ntsb.gov/pdfgenerator/ReportGeneratorFile.ashx?EventID=20170701X91219&AKey=1&RType=HTML&IType=WA\n",
      "1044 https://app.ntsb.gov/pdfgenerator/ReportGeneratorFile.ashx?EventID=20170628X14253&AKey=1&RType=HTML&IType=WA\n",
      "1059 https://app.ntsb.gov/pdfgenerator/ReportGeneratorFile.ashx?EventID=20170703X75223&AKey=1&RType=HTML&IType=WA\n",
      "1074 https://app.ntsb.gov/pdfgenerator/ReportGeneratorFile.ashx?EventID=20170614X23849&AKey=1&RType=HTML&IType=WA\n",
      "1106 https://app.ntsb.gov/pdfgenerator/ReportGeneratorFile.ashx?EventID=20170605X11754&AKey=1&RType=HTML&IType=WA\n",
      "1115 https://app.ntsb.gov/pdfgenerator/ReportGeneratorFile.ashx?EventID=20170608X95731&AKey=1&RType=HTML&IType=WA\n",
      "1149 https://app.ntsb.gov/pdfgenerator/ReportGeneratorFile.ashx?EventID=20170607X61756&AKey=1&RType=HTML&IType=WA\n"
     ]
    },
    {
     "name": "stdout",
     "output_type": "stream",
     "text": [
      "1164 https://app.ntsb.gov/pdfgenerator/ReportGeneratorFile.ashx?EventID=20170517X14413&AKey=1&RType=HTML&IType=WA\n",
      "1167 https://app.ntsb.gov/pdfgenerator/ReportGeneratorFile.ashx?EventID=20170524X63941&AKey=1&RType=HTML&IType=WA\n",
      "1220 https://app.ntsb.gov/pdfgenerator/ReportGeneratorFile.ashx?EventID=20170609X60849&AKey=1&RType=HTML&IType=WA\n",
      "1229 https://app.ntsb.gov/pdfgenerator/ReportGeneratorFile.ashx?EventID=20170419X40838&AKey=1&RType=HTML&IType=WA\n",
      "1257 https://app.ntsb.gov/pdfgenerator/ReportGeneratorFile.ashx?EventID=20170330X00553&AKey=1&RType=HTML&IType=WA\n",
      "1278 https://app.ntsb.gov/pdfgenerator/ReportGeneratorFile.ashx?EventID=20170316X90652&AKey=1&RType=HTML&IType=WA\n",
      "1281 https://app.ntsb.gov/pdfgenerator/ReportGeneratorFile.ashx?EventID=20170315X62526&AKey=1&RType=HTML&IType=WA\n",
      "1282 https://app.ntsb.gov/pdfgenerator/ReportGeneratorFile.ashx?EventID=20170313X61441&AKey=1&RType=HTML&IType=WA\n",
      "1295 https://app.ntsb.gov/pdfgenerator/ReportGeneratorFile.ashx?EventID=20170308X91038&AKey=1&RType=HTML&IType=WA\n",
      "1314 https://app.ntsb.gov/pdfgenerator/ReportGeneratorFile.ashx?EventID=20170306X34644&AKey=1&RType=HTML&IType=WA\n",
      "1321 https://app.ntsb.gov/pdfgenerator/ReportGeneratorFile.ashx?EventID=20171121X13917&AKey=1&RType=HTML&IType=WA\n",
      "1346 https://app.ntsb.gov/pdfgenerator/ReportGeneratorFile.ashx?EventID=20170222X25255&AKey=1&RType=HTML&IType=WA\n",
      "1348 https://app.ntsb.gov/pdfgenerator/ReportGeneratorFile.ashx?EventID=20170208X03312&AKey=1&RType=HTML&IType=WA\n",
      "1398 https://app.ntsb.gov/pdfgenerator/ReportGeneratorFile.ashx?EventID=20170112X95658&AKey=1&RType=HTML&IType=WA\n",
      "1421 https://app.ntsb.gov/pdfgenerator/ReportGeneratorFile.ashx?EventID=20170112X34148&AKey=1&RType=HTML&IType=WA\n",
      "1433 https://app.ntsb.gov/pdfgenerator/ReportGeneratorFile.ashx?EventID=20170109X55029&AKey=1&RType=HTML&IType=WA\n",
      "1436 https://app.ntsb.gov/pdfgenerator/ReportGeneratorFile.ashx?EventID=20161215X73123&AKey=1&RType=HTML&IType=WA\n",
      "1440 https://app.ntsb.gov/pdfgenerator/ReportGeneratorFile.ashx?EventID=20161208X92208&AKey=1&RType=HTML&IType=WA\n",
      "1449 https://app.ntsb.gov/pdfgenerator/ReportGeneratorFile.ashx?EventID=20170109X54342&AKey=1&RType=HTML&IType=WA\n",
      "1461 https://app.ntsb.gov/pdfgenerator/ReportGeneratorFile.ashx?EventID=20161128X95011&AKey=1&RType=HTML&IType=WA\n",
      "1463 https://app.ntsb.gov/pdfgenerator/ReportGeneratorFile.ashx?EventID=20161128X13747&AKey=1&RType=HTML&IType=WA\n",
      "1464 https://app.ntsb.gov/pdfgenerator/ReportGeneratorFile.ashx?EventID=20161123X52437&AKey=1&RType=HTML&IType=WA\n",
      "1469 https://app.ntsb.gov/pdfgenerator/ReportGeneratorFile.ashx?EventID=20161122X13925&AKey=1&RType=HTML&IType=WA\n",
      "1474 https://app.ntsb.gov/pdfgenerator/ReportGeneratorFile.ashx?EventID=20161128X10058&AKey=1&RType=HTML&IType=WA\n",
      "1496 https://app.ntsb.gov/pdfgenerator/ReportGeneratorFile.ashx?EventID=20161122X20703&AKey=1&RType=HTML&IType=WA\n",
      "1515 https://app.ntsb.gov/pdfgenerator/ReportGeneratorFile.ashx?EventID=20170126X60748&AKey=1&RType=HTML&IType=WA\n",
      "1525 https://app.ntsb.gov/pdfgenerator/ReportGeneratorFile.ashx?EventID=20161024X41342&AKey=1&RType=HTML&IType=WA\n",
      "1539 https://app.ntsb.gov/pdfgenerator/ReportGeneratorFile.ashx?EventID=20170114X90241&AKey=1&RType=HTML&IType=WA\n",
      "1571 https://app.ntsb.gov/pdfgenerator/ReportGeneratorFile.ashx?EventID=20161004X33017&AKey=1&RType=HTML&IType=WA\n",
      "1586 https://app.ntsb.gov/pdfgenerator/ReportGeneratorFile.ashx?EventID=20161003X52014&AKey=1&RType=HTML&IType=WA\n",
      "1603 https://app.ntsb.gov/pdfgenerator/ReportGeneratorFile.ashx?EventID=20161103X71146&AKey=1&RType=HTML&IType=WA\n",
      "1608 https://app.ntsb.gov/pdfgenerator/ReportGeneratorFile.ashx?EventID=20170728X93637&AKey=1&RType=HTML&IType=WA\n",
      "1619 https://app.ntsb.gov/pdfgenerator/ReportGeneratorFile.ashx?EventID=20160920X55131&AKey=1&RType=HTML&IType=WA\n",
      "1620 https://app.ntsb.gov/pdfgenerator/ReportGeneratorFile.ashx?EventID=20160920X55131&AKey=2&RType=HTML&IType=WA\n",
      "1634 https://app.ntsb.gov/pdfgenerator/ReportGeneratorFile.ashx?EventID=20160920X10603&AKey=1&RType=HTML&IType=WA\n",
      "1654 https://app.ntsb.gov/pdfgenerator/ReportGeneratorFile.ashx?EventID=20171108X84304&AKey=1&RType=HTML&IType=WA\n",
      "1662 https://app.ntsb.gov/pdfgenerator/ReportGeneratorFile.ashx?EventID=20160909X81214&AKey=1&RType=HTML&IType=WA\n",
      "1668 https://app.ntsb.gov/pdfgenerator/ReportGeneratorFile.ashx?EventID=20160909X74914&AKey=1&RType=HTML&IType=WA\n",
      "1671 https://app.ntsb.gov/pdfgenerator/ReportGeneratorFile.ashx?EventID=20160916X90101&AKey=1&RType=HTML&IType=WA\n",
      "1686 https://app.ntsb.gov/pdfgenerator/ReportGeneratorFile.ashx?EventID=20181029X81901&AKey=1&RType=HTML&IType=WA\n",
      "1692 https://app.ntsb.gov/pdfgenerator/ReportGeneratorFile.ashx?EventID=20160831X34200&AKey=1&RType=HTML&IType=WA\n",
      "1726 https://app.ntsb.gov/pdfgenerator/ReportGeneratorFile.ashx?EventID=20160815X52134&AKey=1&RType=HTML&IType=WA\n",
      "1738 https://app.ntsb.gov/pdfgenerator/ReportGeneratorFile.ashx?EventID=20160811X35334&AKey=1&RType=HTML&IType=WA\n",
      "1746 https://app.ntsb.gov/pdfgenerator/ReportGeneratorFile.ashx?EventID=20160808X92449&AKey=1&RType=HTML&IType=WA\n",
      "1776 https://app.ntsb.gov/pdfgenerator/ReportGeneratorFile.ashx?EventID=20160831X14546&AKey=1&RType=HTML&IType=WA\n",
      "1828 https://app.ntsb.gov/pdfgenerator/ReportGeneratorFile.ashx?EventID=20160719X41739&AKey=1&RType=HTML&IType=WA\n",
      "1849 https://app.ntsb.gov/pdfgenerator/ReportGeneratorFile.ashx?EventID=20160707X61650&AKey=1&RType=HTML&IType=WA\n",
      "1861 https://app.ntsb.gov/pdfgenerator/ReportGeneratorFile.ashx?EventID=20160705X61438&AKey=1&RType=HTML&IType=WA\n",
      "1887 https://app.ntsb.gov/pdfgenerator/ReportGeneratorFile.ashx?EventID=20160705X35534&AKey=1&RType=HTML&IType=WA\n",
      "1888 https://app.ntsb.gov/pdfgenerator/ReportGeneratorFile.ashx?EventID=20160627X44727&AKey=1&RType=HTML&IType=RA\n",
      "1897 https://app.ntsb.gov/pdfgenerator/ReportGeneratorFile.ashx?EventID=20160708X93054&AKey=1&RType=HTML&IType=WA\n",
      "1912 https://app.ntsb.gov/pdfgenerator/ReportGeneratorFile.ashx?EventID=20160620X94756&AKey=1&RType=HTML&IType=WA\n",
      "1971 https://app.ntsb.gov/pdfgenerator/ReportGeneratorFile.ashx?EventID=20160727X11652&AKey=1&RType=HTML&IType=WA\n",
      "1992 https://app.ntsb.gov/pdfgenerator/ReportGeneratorFile.ashx?EventID=20160608X63653&AKey=1&RType=HTML&IType=WA\n",
      "2022 https://app.ntsb.gov/pdfgenerator/ReportGeneratorFile.ashx?EventID=20160607X94930&AKey=1&RType=HTML&IType=WA\n",
      "2038 https://app.ntsb.gov/pdfgenerator/ReportGeneratorFile.ashx?EventID=20160621X24749&AKey=1&RType=HTML&IType=WA\n",
      "2043 https://app.ntsb.gov/pdfgenerator/ReportGeneratorFile.ashx?EventID=20160906X35440&AKey=1&RType=HTML&IType=WA\n",
      "2060 https://app.ntsb.gov/pdfgenerator/ReportGeneratorFile.ashx?EventID=20160503X43234&AKey=1&RType=HTML&IType=WA\n",
      "2063 https://app.ntsb.gov/pdfgenerator/ReportGeneratorFile.ashx?EventID=20160511X40514&AKey=1&RType=HTML&IType=WA\n",
      "2078 https://app.ntsb.gov/pdfgenerator/ReportGeneratorFile.ashx?EventID=20160531X05632&AKey=1&RType=HTML&IType=WA\n",
      "2080 https://app.ntsb.gov/pdfgenerator/ReportGeneratorFile.ashx?EventID=20160512X10814&AKey=1&RType=HTML&IType=WA\n",
      "2096 https://app.ntsb.gov/pdfgenerator/ReportGeneratorFile.ashx?EventID=20160422X11217&AKey=1&RType=HTML&IType=WA\n",
      "2097 https://app.ntsb.gov/pdfgenerator/ReportGeneratorFile.ashx?EventID=20160509X91308&AKey=1&RType=HTML&IType=WA\n",
      "2129 https://app.ntsb.gov/pdfgenerator/ReportGeneratorFile.ashx?EventID=20160406X70205&AKey=1&RType=HTML&IType=WA\n",
      "2145 https://app.ntsb.gov/pdfgenerator/ReportGeneratorFile.ashx?EventID=20160329X64240&AKey=1&RType=HTML&IType=WA\n",
      "2158 https://app.ntsb.gov/pdfgenerator/ReportGeneratorFile.ashx?EventID=20160607X64406&AKey=1&RType=HTML&IType=WA\n",
      "2206 https://app.ntsb.gov/pdfgenerator/ReportGeneratorFile.ashx?EventID=20160212X11826&AKey=1&RType=HTML&IType=WA\n",
      "2216 https://app.ntsb.gov/pdfgenerator/ReportGeneratorFile.ashx?EventID=20160202X93521&AKey=1&RType=HTML&IType=WA\n",
      "2236 https://app.ntsb.gov/pdfgenerator/ReportGeneratorFile.ashx?EventID=20160301X04925&AKey=1&RType=HTML&IType=WA\n",
      "2261 https://app.ntsb.gov/pdfgenerator/ReportGeneratorFile.ashx?EventID=20160107X90951&AKey=1&RType=HTML&IType=WA\n",
      "2267 https://app.ntsb.gov/pdfgenerator/ReportGeneratorFile.ashx?EventID=20160106X93154&AKey=1&RType=HTML&IType=WA\n",
      "2305 https://app.ntsb.gov/pdfgenerator/ReportGeneratorFile.ashx?EventID=20151215X32745&AKey=1&RType=HTML&IType=WA\n"
     ]
    },
    {
     "name": "stdout",
     "output_type": "stream",
     "text": [
      "2327 https://app.ntsb.gov/pdfgenerator/ReportGeneratorFile.ashx?EventID=20151127X31751&AKey=1&RType=HTML&IType=WA\n",
      "2329 https://app.ntsb.gov/pdfgenerator/ReportGeneratorFile.ashx?EventID=20151123X54714&AKey=1&RType=HTML&IType=WA\n",
      "2344 https://app.ntsb.gov/pdfgenerator/ReportGeneratorFile.ashx?EventID=20151123X63526&AKey=1&RType=HTML&IType=WA\n",
      "2352 https://app.ntsb.gov/pdfgenerator/ReportGeneratorFile.ashx?EventID=20151109X20902&AKey=1&RType=HTML&IType=WA\n",
      "2421 https://app.ntsb.gov/pdfgenerator/ReportGeneratorFile.ashx?EventID=20151013X23913&AKey=1&RType=HTML&IType=WA\n",
      "2436 https://app.ntsb.gov/pdfgenerator/ReportGeneratorFile.ashx?EventID=20150928X20026&AKey=1&RType=HTML&IType=WA\n",
      "2437 https://app.ntsb.gov/pdfgenerator/ReportGeneratorFile.ashx?EventID=20150928X20026&AKey=2&RType=HTML&IType=WA\n",
      "2451 https://app.ntsb.gov/pdfgenerator/ReportGeneratorFile.ashx?EventID=20150924X44711&AKey=1&RType=HTML&IType=WA\n",
      "2486 https://app.ntsb.gov/pdfgenerator/ReportGeneratorFile.ashx?EventID=20160411X70823&AKey=1&RType=HTML&IType=WA\n",
      "2507 https://app.ntsb.gov/pdfgenerator/ReportGeneratorFile.ashx?EventID=20150924X63632&AKey=1&RType=HTML&IType=WA\n",
      "2508 https://app.ntsb.gov/pdfgenerator/ReportGeneratorFile.ashx?EventID=20151130X13500&AKey=1&RType=HTML&IType=WA\n",
      "2518 https://app.ntsb.gov/pdfgenerator/ReportGeneratorFile.ashx?EventID=20170407X95634&AKey=1&RType=HTML&IType=WA\n",
      "2554 https://app.ntsb.gov/pdfgenerator/ReportGeneratorFile.ashx?EventID=20150821X04423&AKey=1&RType=HTML&IType=WA\n",
      "2561 https://app.ntsb.gov/pdfgenerator/ReportGeneratorFile.ashx?EventID=20150817X61230&AKey=1&RType=HTML&IType=WA\n",
      "2567 https://app.ntsb.gov/pdfgenerator/ReportGeneratorFile.ashx?EventID=20150814X24105&AKey=1&RType=HTML&IType=RA\n",
      "2577 https://app.ntsb.gov/pdfgenerator/ReportGeneratorFile.ashx?EventID=20150812X42322&AKey=1&RType=HTML&IType=RA\n",
      "2582 https://app.ntsb.gov/pdfgenerator/ReportGeneratorFile.ashx?EventID=20150810X15430&AKey=1&RType=HTML&IType=WA\n",
      "2613 https://app.ntsb.gov/pdfgenerator/ReportGeneratorFile.ashx?EventID=20150727X34345&AKey=1&RType=HTML&IType=WA\n",
      "2631 https://app.ntsb.gov/pdfgenerator/ReportGeneratorFile.ashx?EventID=20150729X51240&AKey=1&RType=HTML&IType=WA\n",
      "2632 https://app.ntsb.gov/pdfgenerator/ReportGeneratorFile.ashx?EventID=20150722X81510&AKey=1&RType=HTML&IType=WA\n",
      "2640 https://app.ntsb.gov/pdfgenerator/ReportGeneratorFile.ashx?EventID=20151013X85501&AKey=1&RType=HTML&IType=WA\n",
      "2666 https://app.ntsb.gov/pdfgenerator/ReportGeneratorFile.ashx?EventID=20150714X20742&AKey=1&RType=HTML&IType=WA\n",
      "2668 https://app.ntsb.gov/pdfgenerator/ReportGeneratorFile.ashx?EventID=20150728X50123&AKey=1&RType=HTML&IType=WA\n",
      "2746 https://app.ntsb.gov/pdfgenerator/ReportGeneratorFile.ashx?EventID=20150608X15812&AKey=1&RType=HTML&IType=WA\n",
      "2752 https://app.ntsb.gov/pdfgenerator/ReportGeneratorFile.ashx?EventID=20150623X83943&AKey=1&RType=HTML&IType=WA\n",
      "2758 https://app.ntsb.gov/pdfgenerator/ReportGeneratorFile.ashx?EventID=20150609X24538&AKey=1&RType=HTML&IType=WA\n",
      "2777 https://app.ntsb.gov/pdfgenerator/ReportGeneratorFile.ashx?EventID=20150601X34243&AKey=1&RType=HTML&IType=WA\n",
      "2800 https://app.ntsb.gov/pdfgenerator/ReportGeneratorFile.ashx?EventID=20150831X81133&AKey=1&RType=HTML&IType=WA\n",
      "2819 https://app.ntsb.gov/pdfgenerator/ReportGeneratorFile.ashx?EventID=20150515X44807&AKey=1&RType=HTML&IType=WA\n",
      "2829 https://app.ntsb.gov/pdfgenerator/ReportGeneratorFile.ashx?EventID=20150527X43713&AKey=1&RType=HTML&IType=WA\n",
      "2854 https://app.ntsb.gov/pdfgenerator/ReportGeneratorFile.ashx?EventID=20150421X13528&AKey=1&RType=HTML&IType=WA\n",
      "2874 https://app.ntsb.gov/pdfgenerator/ReportGeneratorFile.ashx?EventID=20150414X21242&AKey=1&RType=HTML&IType=WA\n",
      "2875 https://app.ntsb.gov/pdfgenerator/ReportGeneratorFile.ashx?EventID=20150427X00955&AKey=1&RType=HTML&IType=RA\n",
      "2878 https://app.ntsb.gov/pdfgenerator/ReportGeneratorFile.ashx?EventID=20150421X00048&AKey=1&RType=HTML&IType=WA\n",
      "2896 https://app.ntsb.gov/pdfgenerator/ReportGeneratorFile.ashx?EventID=20150408X54634&AKey=1&RType=HTML&IType=WA\n",
      "2900 https://app.ntsb.gov/pdfgenerator/ReportGeneratorFile.ashx?EventID=20150408X74523&AKey=1&RType=HTML&IType=WA\n",
      "2907 https://app.ntsb.gov/pdfgenerator/ReportGeneratorFile.ashx?EventID=20150415X21725&AKey=1&RType=HTML&IType=WA\n",
      "2916 https://app.ntsb.gov/pdfgenerator/ReportGeneratorFile.ashx?EventID=20150601X23534&AKey=1&RType=HTML&IType=WA\n",
      "2922 https://app.ntsb.gov/pdfgenerator/ReportGeneratorFile.ashx?EventID=20150324X45521&AKey=1&RType=HTML&IType=WA\n",
      "2931 https://app.ntsb.gov/pdfgenerator/ReportGeneratorFile.ashx?EventID=20150323X60117&AKey=1&RType=HTML&IType=WA\n",
      "2937 https://app.ntsb.gov/pdfgenerator/ReportGeneratorFile.ashx?EventID=20150318X84028&AKey=1&RType=HTML&IType=WA\n",
      "2976 https://app.ntsb.gov/pdfgenerator/ReportGeneratorFile.ashx?EventID=20150304X33517&AKey=1&RType=HTML&IType=WA\n",
      "2985 https://app.ntsb.gov/pdfgenerator/ReportGeneratorFile.ashx?EventID=20150220X45640&AKey=1&RType=HTML&IType=WA\n",
      "2987 https://app.ntsb.gov/pdfgenerator/ReportGeneratorFile.ashx?EventID=20150226X33737&AKey=1&RType=HTML&IType=WA\n",
      "3002 https://app.ntsb.gov/pdfgenerator/ReportGeneratorFile.ashx?EventID=20160325X33816&AKey=1&RType=HTML&IType=WA\n",
      "3003 https://app.ntsb.gov/pdfgenerator/ReportGeneratorFile.ashx?EventID=20150216X51702&AKey=1&RType=HTML&IType=WA\n",
      "3005 https://app.ntsb.gov/pdfgenerator/ReportGeneratorFile.ashx?EventID=20150305X10103&AKey=1&RType=HTML&IType=WA\n",
      "3008 https://app.ntsb.gov/pdfgenerator/ReportGeneratorFile.ashx?EventID=20150205X05021&AKey=1&RType=HTML&IType=FA\n",
      "3020 https://app.ntsb.gov/pdfgenerator/ReportGeneratorFile.ashx?EventID=20150204X24920&AKey=1&RType=HTML&IType=WA\n",
      "3027 https://app.ntsb.gov/pdfgenerator/ReportGeneratorFile.ashx?EventID=20150120X75714&AKey=1&RType=HTML&IType=WA\n",
      "3037 https://app.ntsb.gov/pdfgenerator/ReportGeneratorFile.ashx?EventID=20150120X42449&AKey=1&RType=HTML&IType=WA\n",
      "3041 https://app.ntsb.gov/pdfgenerator/ReportGeneratorFile.ashx?EventID=20150123X32410&AKey=1&RType=HTML&IType=WA\n",
      "3058 https://app.ntsb.gov/pdfgenerator/ReportGeneratorFile.ashx?EventID=20150105X13814&AKey=1&RType=HTML&IType=WA\n",
      "3074 https://app.ntsb.gov/pdfgenerator/ReportGeneratorFile.ashx?EventID=20150120X22925&AKey=1&RType=HTML&IType=WA\n",
      "3107 https://app.ntsb.gov/pdfgenerator/ReportGeneratorFile.ashx?EventID=20150507X54223&AKey=1&RType=HTML&IType=WA\n",
      "3121 https://app.ntsb.gov/pdfgenerator/ReportGeneratorFile.ashx?EventID=20141128X14140&AKey=1&RType=HTML&IType=WA\n",
      "3382 https://app.ntsb.gov/pdfgenerator/ReportGeneratorFile.ashx?EventID=20140727X24207&AKey=1&RType=HTML&IType=RA\n",
      "5141 https://app.ntsb.gov/pdfgenerator/ReportGeneratorFile.ashx?EventID=20120604X34645&AKey=1&RType=HTML&IType=WA\n",
      "5552 https://app.ntsb.gov/pdfgenerator/ReportGeneratorFile.ashx?EventID=20111104X45548&AKey=1&RType=HTML&IType=WA\n",
      "5673 https://app.ntsb.gov/pdfgenerator/ReportGeneratorFile.ashx?EventID=20111013X11758&AKey=1&RType=HTML&IType=WA\n",
      "6475 https://app.ntsb.gov/pdfgenerator/ReportGeneratorFile.ashx?EventID=20111108X10934&AKey=1&RType=HTML&IType=WA\n",
      "6616 https://app.ntsb.gov/pdfgenerator/ReportGeneratorFile.ashx?EventID=20100921X72055&AKey=1&RType=HTML&IType=WA\n",
      "6941 https://app.ntsb.gov/pdfgenerator/ReportGeneratorFile.ashx?EventID=20161004X01233&AKey=1&RType=HTML&IType=WA\n",
      "8277 https://app.ntsb.gov/pdfgenerator/ReportGeneratorFile.ashx?EventID=20090710X20155&AKey=1&RType=HTML&IType=WA\n",
      "Wall time: 3h 57min 20s\n"
     ]
    }
   ],
   "source": [
    "%%time\n",
    "\n",
    "# visit each generated URL, find departure point\n",
    "# grab airport code in parentheses\n",
    "airports = []\n",
    "for i, url in enumerate(to_visit):\n",
    "    browser.visit(url)\n",
    "    html = browser.html\n",
    "    soup = bs(html,'html.parser')\n",
    "\n",
    "    # navigate to departure point if exists\n",
    "    if soup(text=re.compile('Departure Point')):\n",
    "        t = soup(text=re.compile('Departure Point'))[0]\n",
    "\n",
    "        # grab airport code in parentheses if exists\n",
    "        if re.search('\\(([^)]+)', t.parent.parent.parent.parent.text):\n",
    "            code = re.search('\\(([^)]+)', t.parent.parent.parent.parent.text).group(1)\n",
    "        else:\n",
    "            code = 'NO CODE'\n",
    "    else:\n",
    "        code = 'Missing Report'\n",
    "        \n",
    "    airports.append(code)"
   ]
  },
  {
   "cell_type": "code",
   "execution_count": 29,
   "metadata": {
    "scrolled": false
   },
   "outputs": [
    {
     "data": {
      "text/plain": [
       "11248"
      ]
     },
     "execution_count": 29,
     "metadata": {},
     "output_type": "execute_result"
    }
   ],
   "source": [
    "# confirm 11248 airport codes\n",
    "len(airports)"
   ]
  },
  {
   "cell_type": "code",
   "execution_count": 31,
   "metadata": {
    "scrolled": true
   },
   "outputs": [
    {
     "data": {
      "text/plain": [
       "1018"
      ]
     },
     "execution_count": 31,
     "metadata": {},
     "output_type": "execute_result"
    }
   ],
   "source": [
    "# number of missing codes\n",
    "airports.count('NO CODE')"
   ]
  },
  {
   "cell_type": "code",
   "execution_count": 32,
   "metadata": {
    "scrolled": true
   },
   "outputs": [
    {
     "data": {
      "text/plain": [
       "209"
      ]
     },
     "execution_count": 32,
     "metadata": {},
     "output_type": "execute_result"
    }
   ],
   "source": [
    "# number of unfinished reports\n",
    "airports.count('Missing Report')"
   ]
  },
  {
   "cell_type": "code",
   "execution_count": 33,
   "metadata": {},
   "outputs": [],
   "source": [
    "browser.quit()"
   ]
  },
  {
   "cell_type": "markdown",
   "metadata": {},
   "source": [
    "#### save airport codes to .TXT file"
   ]
  },
  {
   "cell_type": "code",
   "execution_count": 37,
   "metadata": {},
   "outputs": [],
   "source": [
    "file = open('data/airports.txt','w+')\n",
    "\n",
    "for airport in airports:\n",
    "    file.write(f'{airport}\\n')\n",
    "    \n",
    "file.close()"
   ]
  }
 ],
 "metadata": {
  "kernelspec": {
   "display_name": "Python 3",
   "language": "python",
   "name": "python3"
  },
  "language_info": {
   "codemirror_mode": {
    "name": "ipython",
    "version": 3
   },
   "file_extension": ".py",
   "mimetype": "text/x-python",
   "name": "python",
   "nbconvert_exporter": "python",
   "pygments_lexer": "ipython3",
   "version": "3.6.5"
  }
 },
 "nbformat": 4,
 "nbformat_minor": 2
}
